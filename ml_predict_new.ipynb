{
 "cells": [
  {
   "cell_type": "code",
   "execution_count": null,
   "metadata": {
    "collapsed": true
   },
   "outputs": [],
   "source": [
    "import pandas as pd\n",
    "import numpy as np\n",
    "import matplotlib.pyplot as plt\n",
    "plt.style.use('ggplot')\n",
    "%matplotlib inline"
   ]
  },
  {
   "cell_type": "code",
   "execution_count": null,
   "metadata": {
    "collapsed": false
   },
   "outputs": [],
   "source": [
    "data = pd.read_csv(\"vectorized_fw2.csv\", index_col=0)\n",
    "test = pd.read_csv(\"test_ds_fw2.csv\", index_col=0)"
   ]
  },
  {
   "cell_type": "code",
   "execution_count": null,
   "metadata": {
    "collapsed": true
   },
   "outputs": [],
   "source": [
    "wc_t = data[\"total wc\"][0]"
   ]
  },
  {
   "cell_type": "code",
   "execution_count": null,
   "metadata": {
    "collapsed": false
   },
   "outputs": [],
   "source": [
    "(data.iloc[:,3:]/wc_t).plot(legend = False)\n",
    "plt.xlabel(\"text label (grouped by judges)\")\n",
    "plt.ylabel(\"word frequency\")\n",
    "plt.savefig(\"freq\")"
   ]
  },
  {
   "cell_type": "code",
   "execution_count": null,
   "metadata": {
    "collapsed": true
   },
   "outputs": [],
   "source": [
    "train_x = np.array(data.iloc[:,3:])\n",
    "train_x = np.nan_to_num(train_x)\n",
    "train_x = train_x/wc_t\n",
    "train_y = np.array(data.iloc[:,0])"
   ]
  },
  {
   "cell_type": "code",
   "execution_count": null,
   "metadata": {
    "collapsed": true
   },
   "outputs": [],
   "source": [
    "from sklearn.ensemble import RandomForestClassifier"
   ]
  },
  {
   "cell_type": "code",
   "execution_count": null,
   "metadata": {
    "collapsed": false
   },
   "outputs": [],
   "source": [
    "clf = RandomForestClassifier(n_estimators=100, n_jobs=2, criterion = \"entropy\")"
   ]
  },
  {
   "cell_type": "code",
   "execution_count": null,
   "metadata": {
    "collapsed": false
   },
   "outputs": [],
   "source": [
    "clf.fit(train_x, train_y)"
   ]
  },
  {
   "cell_type": "code",
   "execution_count": null,
   "metadata": {
    "collapsed": false
   },
   "outputs": [],
   "source": [
    "wc = np.array(test[\"total wc\"])\n",
    "temp = np.array(test.iloc[:,3:])\n",
    "temp = np.nan_to_num(temp)\n",
    "test_x = []\n",
    "for i in range(wc.shape[0]):\n",
    "    vec = temp[i]/wc[i]\n",
    "    test_x.append(vec)\n",
    "test_x = np.array(test_x)"
   ]
  },
  {
   "cell_type": "code",
   "execution_count": null,
   "metadata": {
    "collapsed": false
   },
   "outputs": [],
   "source": [
    "feature_importances = pd.Series(clf.feature_importances_, index=data.columns[3:])"
   ]
  },
  {
   "cell_type": "code",
   "execution_count": null,
   "metadata": {
    "collapsed": true
   },
   "outputs": [],
   "source": [
    "feature_importances.sort_values(ascending=False, inplace=True)"
   ]
  },
  {
   "cell_type": "code",
   "execution_count": null,
   "metadata": {
    "collapsed": false
   },
   "outputs": [],
   "source": [
    "feature_importances.to_csv(\"feature_importances.csv\")"
   ]
  },
  {
   "cell_type": "code",
   "execution_count": null,
   "metadata": {
    "collapsed": false
   },
   "outputs": [],
   "source": [
    "def judge_list(n):\n",
    "    if n in range(573,609+1):\n",
    "        return [\"楊仁壽\",\"城仲模\",\"翁岳生\",\"林永謀\",\"王和雄\",\"余雪明\",\"廖義男\",\"曾有田\",\"彭鳳至\",\"賴英照\",\"謝在全\",\"徐璧湖\",\"林子儀\",\"許宗力\",\"許玉秀\"]\n",
    "    elif n == 610:\n",
    "        return [\"城仲模\",\"翁岳生\",\"林永謀\",\"王和雄\",\"余雪明\",\"廖義男\",\"曾有田\",'彭鳳至',\"賴英照\",\"謝在全\",\"徐璧湖\",\"林子儀\",\"許宗力\",\"許玉秀\"]"
   ]
  },
  {
   "cell_type": "code",
   "execution_count": null,
   "metadata": {
    "collapsed": false
   },
   "outputs": [],
   "source": [
    "y = []\n",
    "y_prob = []\n",
    "for row in test.iterrows():\n",
    "    jl = judge_list(row[1][\"file_n\"])\n",
    "    clf = RandomForestClassifier(n_estimators=100, n_jobs=2, criterion = \"entropy\")\n",
    "    idx_to_train = data.NAME.isin(jl)\n",
    "    clf.fit(train_x[idx_to_train], train_y[idx_to_train])\n",
    "    y.append(clf.predict(test_x[row[0]]))\n",
    "    y_prob.append(clf.predict_proba(test_x[row[0]]))\n",
    "y = pd.Series(y, index=test.file_n)\n",
    "y_prob = pd.DataFrame(y_prob, index=test.file_n.as_matrix(), columns=clf.classes_)"
   ]
  },
  {
   "cell_type": "code",
   "execution_count": null,
   "metadata": {
    "collapsed": false
   },
   "outputs": [],
   "source": [
    "y.to_csv(\"predict.csv\", encoding=\"utf8\")\n",
    "y_prob.to_csv(\"predict_proba.csv\", encoding=\"utf8\")"
   ]
  }
 ],
 "metadata": {
  "kernelspec": {
   "display_name": "Python 2",
   "language": "python",
   "name": "python2"
  },
  "language_info": {
   "codemirror_mode": {
    "name": "ipython",
    "version": 2
   },
   "file_extension": ".py",
   "mimetype": "text/x-python",
   "name": "python",
   "nbconvert_exporter": "python",
   "pygments_lexer": "ipython2",
   "version": "2.7.6"
  }
 },
 "nbformat": 4,
 "nbformat_minor": 0
}
